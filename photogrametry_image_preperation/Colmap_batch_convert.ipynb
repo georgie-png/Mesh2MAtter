{
 "cells": [
  {
   "cell_type": "markdown",
   "metadata": {},
   "source": [
    "# A Script to batch convert videos stills into meshs\n",
    "\n",
    "    Using Colmap to do the conversion from image to mesh and post-proccessing in houdini to clean up, \n",
    "    color and stadaize the output objects, saving them as .ply\n"
   ]
  },
  {
   "cell_type": "code",
   "execution_count": null,
   "metadata": {},
   "outputs": [],
   "source": [
    "import subprocess\n",
    "import shlex\n",
    "import os\n",
    "import time\n",
    "import glob\n",
    "\n",
    "\n",
    "\n",
    "Path = str(os.getcwd())\n",
    "\n",
    "\n"
   ]
  },
  {
   "cell_type": "markdown",
   "metadata": {},
   "source": [
    " ### Running Colmap through a  .sh script\n",
    " \n",
    "     Colmap is not accessible through python so here we run a .sh script which we pass the directory of \n",
    "     the stills. Colmap outpust a sparse and dense construct of the scene both used later int the procces,\n",
    "     as well as a delaunay triangulated mesh."
   ]
  },
  {
   "cell_type": "code",
   "execution_count": null,
   "metadata": {},
   "outputs": [],
   "source": [
    "startTime = time.time()\n",
    "\n",
    "#execute colmap photogrametry through .sh file\n",
    "shScript = \"./get_colmap_reconstruction.sh\" \n",
    "totFiles = glob.glob(Path+'/Rocks/*/')\n",
    "num=0\n",
    "\n",
    "\n",
    "print(\"Colabmap sparse+dense conversion begin:\")\n",
    "for rockdir in totFiles:\n",
    "    print(\"Rock Dir:\")\n",
    "    print(rockdir)\n",
    "    rockdir = str(rockdir)\n",
    "\n",
    "    images = rockdir\n",
    "    wrkspc = rockdir \n",
    "\n",
    "    num+=1\n",
    "\n",
    "    timer = time.time()\n",
    "\n",
    "    fh = open(\"NUL\",\"w\")\n",
    "    subprocess.call([shScript, images, wrkspc], stdout = fh, stderr = fh)\n",
    "    fh.close()\n",
    "\n",
    "    print(\"Colmap convert:\")\n",
    "    print(str(num)+\"of\"+str(len(totFiles)))\n",
    "    print(\"Time in Mins:\")\n",
    "    print((time.time()-timer)/60)\n"
   ]
  },
  {
   "cell_type": "markdown",
   "metadata": {},
   "source": [
    "## Cleaning the delaunay mesh  with houdini\n",
    "\n",
    "    Using Houdini to remove the baseplate from the rock meshes and smoothing the noise of the scanned\n",
    "    mesh. Using attribute transfer to add the colour from the fused.ply created in the dense reconstruct to \n",
    "    colourize the the delaunay meshed model. This code simply loads the models into houdini at the start of \n",
    "    a network of nodes and saves the outcome from the botom of the tree, quickly and efficiently utilizing \n",
    "    the procedural powers of Houdini for batch proccess."
   ]
  },
  {
   "cell_type": "code",
   "execution_count": null,
   "metadata": {},
   "outputs": [],
   "source": [
    "\n",
    "import HouProccess\n",
    "num=0\n",
    "#execute houdini skinner for each file \n",
    "print(\"Houdini refine begin:\")\n",
    "for rockdir in totFiles:\n",
    "    print(\"Rock Dir:\")\n",
    "    print(rockdir)\t\n",
    "\n",
    "    timer = time.time()\n",
    "    denseDir = rockdir + \"/dense/0\"\n",
    "    name = os.path.basename(os.path.normpath(rockdir))\n",
    "    HouProccess.convert( denseDir+\"/fused.ply\", denseDir+\"/meshed.ply\", rockdir+\"/\"+name+\"_Mesh+Col.ply\")\n",
    "    num+=1\n",
    "\n",
    "    print(\"Houdini mesh Processed:\")\n",
    "    print(num,\"of\",len(totFiles))\n",
    "    print(\"Time in Mins:\")\n",
    "    print((time.time()-timer)/60)\n",
    "\n",
    "print(\"COMPLETE!!!!\")\n",
    "print(\"processed in\", startTime-time.time())\n",
    "print(\"PHweeeee\")\n"
   ]
  }
 ],
 "metadata": {
  "kernelspec": {
   "display_name": "Python 3",
   "language": "python",
   "name": "python3"
  },
  "language_info": {
   "codemirror_mode": {
    "name": "ipython",
    "version": 3
   },
   "file_extension": ".py",
   "mimetype": "text/x-python",
   "name": "python",
   "nbconvert_exporter": "python",
   "pygments_lexer": "ipython3",
   "version": "3.6.9"
  }
 },
 "nbformat": 4,
 "nbformat_minor": 4
}
